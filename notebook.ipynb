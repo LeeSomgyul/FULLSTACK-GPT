{
 "cells": [
  {
   "cell_type": "code",
   "execution_count": 7,
   "id": "a4abb30c",
   "metadata": {},
   "outputs": [],
   "source": [
    "from langchain.chat_models import ChatOpenAI\n",
    "\n",
    "chat = ChatOpenAI(\n",
    "    model_name = \"gpt-4o-mini\",\n",
    "    temperature = 0.6\n",
    ")"
   ]
  },
  {
   "cell_type": "code",
   "execution_count": null,
   "id": "75583f4d",
   "metadata": {},
   "outputs": [
    {
     "data": {
      "text/plain": [
       "AIMessage(content='서울의 한강공원을 추천해 드려요. 한강변에서 산책하면서 아름다운 경치를 즐길 수 있고, 자전거를 타거나 피크닉을 하기에 좋은 장소입니다. 특히 저녁 무렵의 노을은 정말 아름다워요!')"
      ]
     },
     "execution_count": 8,
     "metadata": {},
     "output_type": "execute_result"
    }
   ],
   "source": [
    "from langchain.schema import HumanMessage, AIMessage, SystemMessage\n",
    "\n",
    "messages = [\n",
    "    SystemMessage(\n",
    "        content=\"질문에 대해 한국어로 답해주세요.\"\n",
    "    ),\n",
    "    AIMessage(\n",
    "        content=\"안녕! 궁금한게 있다면 나에게 물어봐!\"\n",
    "    ),\n",
    "    HumanMessage(\n",
    "        content=\"서울에서 데이트 코스로 어딜 가면 좋을지 1곳만 추천해줘.\"\n",
    "    )\n",
    "]\n",
    "\n",
    "chat.predict_messages(messages)"
   ]
  }
 ],
 "metadata": {
  "kernelspec": {
   "display_name": "env",
   "language": "python",
   "name": "python3"
  },
  "language_info": {
   "codemirror_mode": {
    "name": "ipython",
    "version": 3
   },
   "file_extension": ".py",
   "mimetype": "text/x-python",
   "name": "python",
   "nbconvert_exporter": "python",
   "pygments_lexer": "ipython3",
   "version": "3.11.6"
  }
 },
 "nbformat": 4,
 "nbformat_minor": 5
}
