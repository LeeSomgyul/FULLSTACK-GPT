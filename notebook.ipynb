{
 "cells": [
  {
   "cell_type": "code",
   "execution_count": 26,
   "id": "a4abb30c",
   "metadata": {},
   "outputs": [],
   "source": [
    "from langchain.chat_models import ChatOpenAI\n",
    "\n",
    "chat = ChatOpenAI(\n",
    "    model_name = \"gpt-4o-mini\",\n",
    "    temperature = 0.6\n",
    ")"
   ]
  },
  {
   "cell_type": "code",
   "execution_count": 27,
   "id": "75583f4d",
   "metadata": {},
   "outputs": [],
   "source": [
    "from langchain.prompts import ChatPromptTemplate\n",
    "from langchain.output_parsers import RegexParser\n",
    "\n",
    "prompt = ChatPromptTemplate.from_messages([\n",
    "    (\"system\", \"질문에 대해 한국어로 답해주세요. 반드시 'places: 장소1, 장소2, 장소3' 형식으로 출력해주세요.\"),\n",
    "    (\"human\", \"{username}님! {question}\")\n",
    "])\n",
    "\n",
    "\n",
    "parser = RegexParser(\n",
    "    regex=r\"places:\\s*(.+)\",\n",
    "    output_keys=[\"places\"]\n",
    ")\n"
   ]
  },
  {
   "cell_type": "code",
   "execution_count": 28,
   "id": "4abb0db0",
   "metadata": {},
   "outputs": [
    {
     "data": {
      "text/plain": [
       "['순천만 국가정원', '순천만', '낙안민속마을']"
      ]
     },
     "execution_count": 28,
     "metadata": {},
     "output_type": "execute_result"
    }
   ],
   "source": [
    "\n",
    "chain = prompt | chat | parser\n",
    "\n",
    "result = chain.invoke({\n",
    "    \"username\": \"솜귤\",\n",
    "    \"question\": \"전남 순천에서 가볼만한 곳 3군데만 추천해줘.\"\n",
    "})\n",
    "\n",
    "places = [x.strip() for x in result[\"places\"].split(\",\")]\n",
    "\n",
    "places\n",
    "\n",
    "\n"
   ]
  }
 ],
 "metadata": {
  "kernelspec": {
   "display_name": "env",
   "language": "python",
   "name": "python3"
  },
  "language_info": {
   "codemirror_mode": {
    "name": "ipython",
    "version": 3
   },
   "file_extension": ".py",
   "mimetype": "text/x-python",
   "name": "python",
   "nbconvert_exporter": "python",
   "pygments_lexer": "ipython3",
   "version": "3.11.6"
  }
 },
 "nbformat": 4,
 "nbformat_minor": 5
}
